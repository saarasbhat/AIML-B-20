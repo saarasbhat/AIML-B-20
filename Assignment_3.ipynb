{
  "nbformat": 4,
  "nbformat_minor": 0,
  "metadata": {
    "colab": {
      "provenance": [],
      "authorship_tag": "ABX9TyPqaDq9XoTyZdw5+PWauB8P",
      "include_colab_link": true
    },
    "kernelspec": {
      "name": "python3",
      "display_name": "Python 3"
    },
    "language_info": {
      "name": "python"
    }
  },
  "cells": [
    {
      "cell_type": "markdown",
      "metadata": {
        "id": "view-in-github",
        "colab_type": "text"
      },
      "source": [
        "<a href=\"https://colab.research.google.com/github/saarasbhat/AIML-B-20/blob/main/Assignment_3.ipynb\" target=\"_parent\"><img src=\"https://colab.research.google.com/assets/colab-badge.svg\" alt=\"Open In Colab\"/></a>"
      ]
    },
    {
      "cell_type": "code",
      "execution_count": 2,
      "metadata": {
        "colab": {
          "base_uri": "https://localhost:8080/"
        },
        "id": "VnSeTVbRUZq6",
        "outputId": "761ceacc-57a1-4632-e0cd-c7f51631c3f3"
      },
      "outputs": [
        {
          "output_type": "stream",
          "name": "stdout",
          "text": [
            "Min value: 10\n",
            "Max value: 25\n"
          ]
        }
      ],
      "source": [
        "class TreeNode:\n",
        "    def __init__(self, data, left=None, right=None):\n",
        "        self.val = data\n",
        "        self.left = left\n",
        "        self.right = right\n",
        "\n",
        "class Solution:\n",
        "    def helper(self, root, h, currentHeight):\n",
        "        if not root:\n",
        "            return\n",
        "        self.helper(root.left, h, currentHeight + 1)\n",
        "        self.helper(root.right, h, currentHeight + 1)\n",
        "        if currentHeight < h:\n",
        "            if currentHeight % 2 == 0:\n",
        "                if root.left and root.right:\n",
        "                    root.val = max(root.left.val, root.right.val)\n",
        "                elif root.left:\n",
        "                    root.val = root.left.val\n",
        "                elif root.right:\n",
        "                    root.val = root.right.val\n",
        "            else:\n",
        "                if root.left and root.right:\n",
        "                    root.val = min(root.left.val, root.right.val)\n",
        "                elif root.left:\n",
        "                    root.val = root.left.val\n",
        "                elif root.right:\n",
        "                    root.val = root.right.val\n",
        "\n",
        "    def height(self, root):\n",
        "        if not root:\n",
        "            return 0\n",
        "        return 1 + max(self.height(root.left), self.height(root.right))\n",
        "\n",
        "    def solve(self, root):\n",
        "        h = self.height(root)\n",
        "        self.helper(root, h, 0)\n",
        "        return root\n",
        "\n",
        "    def print_tree(self, root):\n",
        "        if root is not None:\n",
        "            self.print_tree(root.left)\n",
        "            print(root.val, end=', ')\n",
        "            self.print_tree(root.right)\n",
        "\n",
        "ob = Solution()\n",
        "root = TreeNode(1, TreeNode(2, TreeNode(10), TreeNode(12)), TreeNode(3, TreeNode(36), TreeNode(25)))\n",
        "\n",
        "root = ob.solve(root)\n",
        "\n",
        "print(f\"Min value: {root.left.left.val if root.left and root.left.left else 'N/A'}\")\n",
        "print(f\"Max value: {root.right.right.val if root.right and root.right.right else 'N/A'}\")"
      ]
    }
  ]
}